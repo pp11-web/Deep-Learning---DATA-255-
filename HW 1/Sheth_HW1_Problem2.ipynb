{
 "cells": [
  {
   "cell_type": "code",
   "execution_count": 1,
   "id": "fd80a8be",
   "metadata": {},
   "outputs": [],
   "source": [
    "from tensorflow.keras.datasets import mnist\n",
    "from tensorflow.keras.utils import to_categorical\n",
    "\n",
    "(train_images, train_labels), (test_images, test_labels) = mnist.load_data()\n",
    "\n",
    "train_images = train_images.reshape((60000, 28, 28, 1)).astype('float32') / 255\n",
    "test_images = test_images.reshape((10000, 28, 28, 1)).astype('float32') / 255\n",
    "\n",
    "train_labels = to_categorical(train_labels)\n",
    "test_labels = to_categorical(test_labels)"
   ]
  },
  {
   "cell_type": "code",
   "execution_count": 2,
   "id": "c9b762e6",
   "metadata": {},
   "outputs": [
    {
     "name": "stderr",
     "output_type": "stream",
     "text": [
      "C:\\Users\\Prayag Purani\\anaconda3\\lib\\site-packages\\keras\\src\\layers\\convolutional\\base_conv.py:99: UserWarning: Do not pass an `input_shape`/`input_dim` argument to a layer. When using Sequential models, prefer using an `Input(shape)` object as the first layer in the model instead.\n",
      "  super().__init__(\n"
     ]
    }
   ],
   "source": [
    "\n",
    "from tensorflow.keras import models, layers\n",
    "\n",
    "def create_model(initializer):\n",
    "    model = models.Sequential()\n",
    "    model.add(layers.Conv2D(32, (3, 3), activation='relu', kernel_initializer=initializer, input_shape=(28, 28, 1)))\n",
    "    model.add(layers.MaxPooling2D((2, 2)))\n",
    "    model.add(layers.Conv2D(64, (3, 3), activation='relu', kernel_initializer=initializer))\n",
    "    model.add(layers.Flatten())\n",
    "    model.add(layers.Dense(64, activation='relu', kernel_initializer=initializer))\n",
    "    # Change this line to have 10 units for the 10 classes of MNIST\n",
    "    model.add(layers.Dense(10, activation='softmax', kernel_initializer=initializer))\n",
    "    return model\n",
    "\n",
    "\n",
    "initializers = ['he_normal', 'glorot_uniform', 'random_normal']\n",
    "models = {init: create_model(init) for init in initializers}\n",
    "\n",
    "for model in models.values():\n",
    "    model.compile(optimizer='adam',\n",
    "                  loss='categorical_crossentropy',\n",
    "                  metrics=['accuracy'])"
   ]
  },
  {
   "cell_type": "code",
   "execution_count": 3,
   "id": "9af9c730",
   "metadata": {},
   "outputs": [
    {
     "name": "stdout",
     "output_type": "stream",
     "text": [
      "Training model with he_normal initialization\n",
      "Epoch 1/20\n",
      "\u001b[1m1688/1688\u001b[0m \u001b[32m━━━━━━━━━━━━━━━━━━━━\u001b[0m\u001b[37m\u001b[0m \u001b[1m34s\u001b[0m 19ms/step - accuracy: 0.9217 - loss: 0.2540 - val_accuracy: 0.9845 - val_loss: 0.0487\n",
      "Epoch 2/20\n",
      "\u001b[1m1688/1688\u001b[0m \u001b[32m━━━━━━━━━━━━━━━━━━━━\u001b[0m\u001b[37m\u001b[0m \u001b[1m33s\u001b[0m 19ms/step - accuracy: 0.9879 - loss: 0.0395 - val_accuracy: 0.9887 - val_loss: 0.0424\n",
      "Epoch 3/20\n",
      "\u001b[1m1688/1688\u001b[0m \u001b[32m━━━━━━━━━━━━━━━━━━━━\u001b[0m\u001b[37m\u001b[0m \u001b[1m40s\u001b[0m 24ms/step - accuracy: 0.9926 - loss: 0.0238 - val_accuracy: 0.9885 - val_loss: 0.0477\n",
      "Epoch 4/20\n",
      "\u001b[1m1688/1688\u001b[0m \u001b[32m━━━━━━━━━━━━━━━━━━━━\u001b[0m\u001b[37m\u001b[0m \u001b[1m37s\u001b[0m 22ms/step - accuracy: 0.9944 - loss: 0.0166 - val_accuracy: 0.9883 - val_loss: 0.0470\n",
      "Epoch 5/20\n",
      "\u001b[1m1688/1688\u001b[0m \u001b[32m━━━━━━━━━━━━━━━━━━━━\u001b[0m\u001b[37m\u001b[0m \u001b[1m32s\u001b[0m 19ms/step - accuracy: 0.9953 - loss: 0.0151 - val_accuracy: 0.9898 - val_loss: 0.0428\n",
      "Training model with glorot_uniform initialization\n",
      "Epoch 1/20\n",
      "\u001b[1m1688/1688\u001b[0m \u001b[32m━━━━━━━━━━━━━━━━━━━━\u001b[0m\u001b[37m\u001b[0m \u001b[1m36s\u001b[0m 20ms/step - accuracy: 0.9052 - loss: 0.2932 - val_accuracy: 0.9868 - val_loss: 0.0462\n",
      "Epoch 2/20\n",
      "\u001b[1m1688/1688\u001b[0m \u001b[32m━━━━━━━━━━━━━━━━━━━━\u001b[0m\u001b[37m\u001b[0m \u001b[1m34s\u001b[0m 20ms/step - accuracy: 0.9858 - loss: 0.0424 - val_accuracy: 0.9888 - val_loss: 0.0367\n",
      "Epoch 3/20\n",
      "\u001b[1m1688/1688\u001b[0m \u001b[32m━━━━━━━━━━━━━━━━━━━━\u001b[0m\u001b[37m\u001b[0m \u001b[1m34s\u001b[0m 20ms/step - accuracy: 0.9921 - loss: 0.0259 - val_accuracy: 0.9905 - val_loss: 0.0425\n",
      "Epoch 4/20\n",
      "\u001b[1m1688/1688\u001b[0m \u001b[32m━━━━━━━━━━━━━━━━━━━━\u001b[0m\u001b[37m\u001b[0m \u001b[1m42s\u001b[0m 21ms/step - accuracy: 0.9940 - loss: 0.0174 - val_accuracy: 0.9873 - val_loss: 0.0417\n",
      "Epoch 5/20\n",
      "\u001b[1m1688/1688\u001b[0m \u001b[32m━━━━━━━━━━━━━━━━━━━━\u001b[0m\u001b[37m\u001b[0m \u001b[1m32s\u001b[0m 19ms/step - accuracy: 0.9962 - loss: 0.0120 - val_accuracy: 0.9888 - val_loss: 0.0463\n",
      "Training model with random_normal initialization\n",
      "Epoch 1/20\n",
      "\u001b[1m1688/1688\u001b[0m \u001b[32m━━━━━━━━━━━━━━━━━━━━\u001b[0m\u001b[37m\u001b[0m \u001b[1m36s\u001b[0m 20ms/step - accuracy: 0.8897 - loss: 0.3677 - val_accuracy: 0.9830 - val_loss: 0.0625\n",
      "Epoch 2/20\n",
      "\u001b[1m1688/1688\u001b[0m \u001b[32m━━━━━━━━━━━━━━━━━━━━\u001b[0m\u001b[37m\u001b[0m \u001b[1m34s\u001b[0m 20ms/step - accuracy: 0.9842 - loss: 0.0495 - val_accuracy: 0.9893 - val_loss: 0.0384\n",
      "Epoch 3/20\n",
      "\u001b[1m1688/1688\u001b[0m \u001b[32m━━━━━━━━━━━━━━━━━━━━\u001b[0m\u001b[37m\u001b[0m \u001b[1m37s\u001b[0m 22ms/step - accuracy: 0.9896 - loss: 0.0330 - val_accuracy: 0.9903 - val_loss: 0.0374\n"
     ]
    }
   ],
   "source": [
    "from tensorflow.keras.callbacks import EarlyStopping\n",
    "\n",
    "early_stopping = EarlyStopping(monitor='val_loss', patience=3)\n",
    "\n",
    "history_dict = {}\n",
    "for name, model in models.items():\n",
    "    print(f\"Training model with {name} initialization\")\n",
    "    history = model.fit(train_images, train_labels, epochs=20, validation_split=0.1, callbacks=[early_stopping])\n",
    "    history_dict[name] = history"
   ]
  },
  {
   "cell_type": "code",
   "execution_count": 4,
   "id": "45fbf15b",
   "metadata": {},
   "outputs": [
    {
     "name": "stdout",
     "output_type": "stream",
     "text": [
      "\u001b[1m313/313\u001b[0m \u001b[32m━━━━━━━━━━━━━━━━━━━━\u001b[0m\u001b[37m\u001b[0m \u001b[1m2s\u001b[0m 7ms/step\n"
     ]
    },
    {
     "ename": "NameError",
     "evalue": "name 'np' is not defined",
     "output_type": "error",
     "traceback": [
      "\u001b[1;31m---------------------------------------------------------------------------\u001b[0m",
      "\u001b[1;31mNameError\u001b[0m                                 Traceback (most recent call last)",
      "Cell \u001b[1;32mIn[4], line 7\u001b[0m\n\u001b[0;32m      5\u001b[0m \u001b[38;5;28;01mfor\u001b[39;00m name, model \u001b[38;5;129;01min\u001b[39;00m models\u001b[38;5;241m.\u001b[39mitems():\n\u001b[0;32m      6\u001b[0m     predictions \u001b[38;5;241m=\u001b[39m model\u001b[38;5;241m.\u001b[39mpredict(test_images)\n\u001b[1;32m----> 7\u001b[0m     predicted_classes \u001b[38;5;241m=\u001b[39m \u001b[43mnp\u001b[49m\u001b[38;5;241m.\u001b[39margmax(predictions, axis\u001b[38;5;241m=\u001b[39m\u001b[38;5;241m1\u001b[39m)\n\u001b[0;32m      8\u001b[0m     true_classes \u001b[38;5;241m=\u001b[39m np\u001b[38;5;241m.\u001b[39margmax(test_labels, axis\u001b[38;5;241m=\u001b[39m\u001b[38;5;241m1\u001b[39m)\n\u001b[0;32m     10\u001b[0m     cm \u001b[38;5;241m=\u001b[39m confusion_matrix(true_classes, predicted_classes)\n",
      "\u001b[1;31mNameError\u001b[0m: name 'np' is not defined"
     ]
    }
   ],
   "source": [
    "from sklearn.metrics import confusion_matrix\n",
    "import seaborn as sns\n",
    "import matplotlib.pyplot as plt\n",
    "\n",
    "for name, model in models.items():\n",
    "    predictions = model.predict(test_images)\n",
    "    predicted_classes = np.argmax(predictions, axis=1)\n",
    "    true_classes = np.argmax(test_labels, axis=1)\n",
    "    \n",
    "    cm = confusion_matrix(true_classes, predicted_classes)\n",
    "    plt.figure(figsize=(6,5))\n",
    "    sns.heatmap(cm, annot=True, fmt=\"d\")\n",
    "    plt.title(f'Confusion Matrix for {name}')\n",
    "    plt.show()"
   ]
  },
  {
   "cell_type": "code",
   "execution_count": null,
   "id": "f507f3ea",
   "metadata": {},
   "outputs": [],
   "source": [
    "import matplotlib.pyplot as plt\n",
    "\n",
    "for name, history in history_dict.items():\n",
    "    acc = history.history['accuracy']\n",
    "    val_acc = history.history['val_accuracy']\n",
    "    loss = history.history['loss']\n",
    "    val_loss = history.history['val_loss']\n",
    "    \n",
    "    epochs = range(1, len(acc) + 1)\n",
    "    \n",
    "    plt.figure(figsize=(12, 6))\n",
    "    \n",
    "    plt.subplot(1, 2, 1)  \n",
    "    plt.plot(epochs, acc, 'bo-', label='Training Accuracy')\n",
    "    plt.plot(epochs, val_acc, 'r^-', label='Validation Accuracy')\n",
    "    plt.title(f'Training and Validation Accuracy for {name}')\n",
    "    plt.xlabel('Epochs')\n",
    "    plt.ylabel('Accuracy')\n",
    "    plt.legend()\n",
    "    \n",
    "    plt.subplot(1, 2, 2)  \n",
    "    plt.plot(epochs, loss, 'bo-', label='Training Loss')\n",
    "    plt.plot(epochs, val_loss, 'r^-', label='Validation Loss')\n",
    "    plt.title(f'Training and Validation Loss for {name}')\n",
    "    plt.xlabel('Epochs')\n",
    "    plt.ylabel('Loss')\n",
    "    plt.legend()\n",
    "    \n",
    "    plt.tight_layout() \n",
    "    plt.show()"
   ]
  },
  {
   "cell_type": "code",
   "execution_count": null,
   "id": "7181d408",
   "metadata": {},
   "outputs": [],
   "source": [
    "test_accuracy = []\n",
    "for name, model in models.items():\n",
    "    _, accuracy = model.evaluate(test_images, test_labels)\n",
    "    test_accuracy.append(accuracy)\n",
    "\n",
    "plt.bar(initializers, test_accuracy)\n",
    "plt.xlabel('Initializer')\n",
    "plt.ylabel('Test Accuracy')\n",
    "plt.title('Test Accuracy for Different Initializers')\n",
    "plt.show()"
   ]
  },
  {
   "cell_type": "code",
   "execution_count": null,
   "id": "8e76de3c",
   "metadata": {},
   "outputs": [],
   "source": []
  },
  {
   "cell_type": "markdown",
   "id": "1c8e1f4a",
   "metadata": {},
   "source": [
    "# Table for Hyperparameters"
   ]
  },
  {
   "cell_type": "markdown",
   "id": "f3a9bcf4",
   "metadata": {},
   "source": [
    "| Hyperparameter | Values |\n",
    "|-----------------------|-----------|\n",
    "| Activation Function | Relu, SoftMAx|\n",
    "| Weight Initializer | he_normal, glorot_uniform, random_normal |\n",
    "| Number of hidden layers | 2 |\n",
    "| Number of neurons in hidden layers | 32+64+64 = 160 |\n",
    "| Loss Function | categorical_crossentropy |\n",
    "| Optimizer | adam |\n",
    "| Number of Epochs | 20 |\n",
    "| Learning Rate  | 0.001  |\n",
    "| Batch Size     | 32     |\n",
    "| Evaluation Metrics | Accuracy |\n"
   ]
  },
  {
   "cell_type": "code",
   "execution_count": null,
   "id": "a361c251",
   "metadata": {},
   "outputs": [],
   "source": []
  }
 ],
 "metadata": {
  "kernelspec": {
   "display_name": "Python 3 (ipykernel)",
   "language": "python",
   "name": "python3"
  },
  "language_info": {
   "codemirror_mode": {
    "name": "ipython",
    "version": 3
   },
   "file_extension": ".py",
   "mimetype": "text/x-python",
   "name": "python",
   "nbconvert_exporter": "python",
   "pygments_lexer": "ipython3",
   "version": "3.9.12"
  }
 },
 "nbformat": 4,
 "nbformat_minor": 5
}
