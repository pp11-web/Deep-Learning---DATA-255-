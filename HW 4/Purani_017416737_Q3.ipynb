{
 "cells": [
  {
   "cell_type": "markdown",
   "metadata": {},
   "source": [
    "# Question 3"
   ]
  },
  {
   "cell_type": "markdown",
   "metadata": {},
   "source": [
    "# Model-1 gtp-2 & all-MiniLM-L6-v2"
   ]
  },
  {
   "cell_type": "code",
   "execution_count": 2,
   "metadata": {
    "colab": {
     "base_uri": "https://localhost:8080/"
    },
    "id": "7Sbuf5TeKsx_",
    "outputId": "a8e22611-a2fe-4390-d2f4-09886177fd16"
   },
   "outputs": [
    {
     "name": "stdout",
     "output_type": "stream",
     "text": [
      "Collecting PyPDF2\n",
      "  Downloading pypdf2-3.0.1-py3-none-any.whl.metadata (6.8 kB)\n",
      "Downloading pypdf2-3.0.1-py3-none-any.whl (232 kB)\n",
      "\u001b[?25l   \u001b[90m━━━━━━━━━━━━━━━━━━━━━━━━━━━━━━━━━━━━━━━━\u001b[0m \u001b[32m0.0/232.6 kB\u001b[0m \u001b[31m?\u001b[0m eta \u001b[36m-:--:--\u001b[0m\r",
      "\u001b[2K   \u001b[91m━━━━━━━━━━━━━━━━━━━━━━━━━━━━━━━━━━━━━━\u001b[0m\u001b[91m╸\u001b[0m\u001b[90m━\u001b[0m \u001b[32m225.3/232.6 kB\u001b[0m \u001b[31m8.0 MB/s\u001b[0m eta \u001b[36m0:00:01\u001b[0m\r",
      "\u001b[2K   \u001b[90m━━━━━━━━━━━━━━━━━━━━━━━━━━━━━━━━━━━━━━━━\u001b[0m \u001b[32m232.6/232.6 kB\u001b[0m \u001b[31m6.0 MB/s\u001b[0m eta \u001b[36m0:00:00\u001b[0m\n",
      "\u001b[?25hInstalling collected packages: PyPDF2\n",
      "Successfully installed PyPDF2-3.0.1\n"
     ]
    }
   ],
   "source": [
    "pip install PyPDF2"
   ]
  },
  {
   "cell_type": "code",
   "execution_count": null,
   "metadata": {},
   "outputs": [],
   "source": [
    "# Required Libraries\n",
    "import PyPDF2\n",
    "from sentence_transformers import SentenceTransformer\n",
    "from transformers import GPT2Tokenizer, GPT2LMHeadModel\n",
    "from sklearn.metrics.pairwise import cosine_similarity\n",
    "import numpy as np\n",
    "import re\n",
    "import torch"
   ]
  },
  {
   "cell_type": "markdown",
   "metadata": {},
   "source": [
    "Chunking the Google Privacy Policy Document"
   ]
  },
  {
   "cell_type": "code",
   "execution_count": null,
   "metadata": {},
   "outputs": [],
   "source": [
    "# Extract text from the PDF\n",
    "def extract_text_from_pdf(file_path):\n",
    "    with open(file_path, 'rb') as f:\n",
    "        reader = PyPDF2.PdfReader(f)\n",
    "        text = \"\"\n",
    "        for page in reader.pages:\n",
    "            text += page.extract_text()\n",
    "    return text\n",
    "\n",
    "# Clean and preprocess the text\n",
    "def clean_and_split_text(text):\n",
    "    \"\"\"\n",
    "    Cleans and splits text into individual sentences for use as a corpus.\n",
    "    \"\"\"\n",
    "    text = re.sub(r'\\s+', ' ', text)\n",
    "    text = re.sub(r'[^\\x00-\\x7F]+', ' ', text)\n",
    "    text = re.sub(r'[^\\w\\s.,!?;]', '', text)\n",
    "    sentences = re.split(r'(?<=[.!?]) +', text)\n",
    "    return [sentence.strip() for sentence in sentences if sentence]\n",
    "\n",
    "# Build the corpus\n",
    "file_path = \"google_privacy_policy_en.pdf\"\n",
    "raw_text = extract_text_from_pdf(file_path)\n",
    "corpus = clean_and_split_text(raw_text)"
   ]
  },
  {
   "cell_type": "markdown",
   "metadata": {},
   "source": [
    "Creating embedding using all-MiniLM-L6-v2"
   ]
  },
  {
   "cell_type": "code",
   "execution_count": null,
   "metadata": {},
   "outputs": [],
   "source": [
    "# Create embeddings for the corpus\n",
    "retriever_model = SentenceTransformer('all-MiniLM-L6-v2')\n",
    "corpus_embeddings = retriever_model.encode(corpus, convert_to_tensor=True)\n",
    "\n"
   ]
  },
  {
   "cell_type": "markdown",
   "metadata": {},
   "source": [
    "Loading gpt2 and padding the tokens to resize it"
   ]
  },
  {
   "cell_type": "code",
   "execution_count": null,
   "metadata": {},
   "outputs": [],
   "source": [
    "# Load GPT-2 for answer generation\n",
    "generator_model = GPT2LMHeadModel.from_pretrained(\"gpt2\")\n",
    "tokenizer = GPT2Tokenizer.from_pretrained(\"gpt2\")\n",
    "\n",
    "# Add padding token and resize GPT-2 model\n",
    "tokenizer.add_special_tokens({'pad_token': '[PAD]'})\n",
    "generator_model.resize_token_embeddings(len(tokenizer))\n",
    "tokenizer.pad_token_id = tokenizer.eos_token_id"
   ]
  },
  {
   "cell_type": "markdown",
   "metadata": {},
   "source": [
    "Question and answer generation using RAG"
   ]
  },
  {
   "cell_type": "code",
   "execution_count": null,
   "metadata": {},
   "outputs": [],
   "source": [
    "# Utility functions for retrieval and generation\n",
    "def generate_response_with_rag(question, top_k=5, temperature=1.0):\n",
    "    # Retrieve top-k relevant sentences\n",
    "    question_embedding = retriever_model.encode(question, convert_to_tensor=True)\n",
    "    similarities = cosine_similarity(\n",
    "        question_embedding.cpu().numpy().reshape(1, -1),\n",
    "        corpus_embeddings.cpu().numpy()\n",
    "    )\n",
    "    top_indices = np.argsort(similarities[0])[-top_k:][::-1]\n",
    "    retrieved_sentences = [corpus[idx] for idx in top_indices]\n",
    "\n",
    "    # Combine the question with the retrieved context\n",
    "    combined_input = f\"Question: {question} Context: {' '.join(retrieved_sentences)}\"\n",
    "\n",
    "    # Tokenize input\n",
    "    inputs = tokenizer(\n",
    "        combined_input,\n",
    "        return_tensors=\"pt\",\n",
    "        truncation=True,\n",
    "        max_length=1024,\n",
    "        padding=True\n",
    "    )\n",
    "\n",
    "    # Generate response\n",
    "    outputs = generator_model.generate(\n",
    "        inputs[\"input_ids\"],\n",
    "        attention_mask=inputs[\"attention_mask\"],\n",
    "        max_new_tokens=500,\n",
    "        num_beams=4,\n",
    "        temperature=temperature,\n",
    "        early_stopping=True,\n",
    "        pad_token_id=tokenizer.pad_token_id\n",
    "    )\n",
    "\n",
    "    return tokenizer.decode(outputs[0], skip_special_tokens=True), retrieved_sentences, combined_input\n"
   ]
  },
  {
   "cell_type": "markdown",
   "metadata": {},
   "source": [
    "Question and answer generation using Non-RAG"
   ]
  },
  {
   "cell_type": "code",
   "execution_count": null,
   "metadata": {},
   "outputs": [],
   "source": [
    "def generate_response_without_rag(question, temperature=1.0):\n",
    "    # Tokenize input question\n",
    "    inputs = tokenizer(\n",
    "        question,\n",
    "        return_tensors=\"pt\",\n",
    "        truncation=True,\n",
    "        max_length=1024,\n",
    "        padding=True\n",
    "    )\n",
    "\n",
    "    # Generate response\n",
    "    outputs = generator_model.generate(\n",
    "        inputs[\"input_ids\"],\n",
    "        attention_mask=inputs[\"attention_mask\"],\n",
    "        max_new_tokens=50,\n",
    "        num_beams=4,\n",
    "        temperature=temperature,\n",
    "        early_stopping=True,\n",
    "        pad_token_id=tokenizer.pad_token_id\n",
    "    )\n",
    "\n",
    "    return tokenizer.decode(outputs[0], skip_special_tokens=True)"
   ]
  },
  {
   "cell_type": "code",
   "execution_count": null,
   "metadata": {},
   "outputs": [],
   "source": [
    "# Define and process questions\n",
    "questions = [\n",
    "    \"What data does Google collect from users?\",\n",
    "    \"When does Google share user data externally?\",\n",
    "    \"What privacy controls are available to users?\",\n",
    "    \"How does Google manage cookies and tracking?\"\n",
    "]\n",
    "\n",
    "print(\"\\n--- Question-Answer Results ---\\n\")"
   ]
  },
  {
   "cell_type": "code",
   "execution_count": null,
   "metadata": {
    "colab": {
     "base_uri": "https://localhost:8080/"
    },
    "id": "99SlinO3hFpl",
    "outputId": "6b3cc0ef-898b-4868-f540-6de0b531ba8b",
    "scrolled": true
   },
   "outputs": [
    {
     "name": "stdout",
     "output_type": "stream",
     "text": [
      "\n",
      "--- Question-Answer Results ---\n",
      "\n",
      "\n",
      "Question 1: What data does Google collect from users?\n",
      "==================================================\n",
      "\n",
      "[Non-RAG Response]\n",
      "What data does Google collect from users?\n",
      "\n",
      "Google collects information about you, your habits, and how you interact with other people. It also collects information about you, your habits, and how you interact with other people. It also collects information about you, your habits, and how you\n",
      "\n",
      "[RAG Retrieved Context]\n",
      "1. collect information This includes information like your usage data and preferences, Gmail messages, G profile, photos, videos, browsing history, map searches, docs, or other Googlehosted content.\n",
      "2. Information we collect when you are signed in to Google, in addition to information we obtain about you from partners, may be associated with your Google Account.\n",
      "3. These products share information about your activity with Google and, depending on your account settings and the products in use for instance, when a partner uses Google Analytics in conjunction with our advertising services, this data may be associated with your personal information.\n",
      "\n",
      "[RAG Generated Response]\n",
      "Question: What data does Google collect from users? Context: collect information This includes information like your usage data and preferences, Gmail messages, G profile, photos, videos, browsing history, map searches, docs, or other Googlehosted content. Information we collect when you are signed in to Google, in addition to information we obtain about you from partners, may be associated with your Google Account. These products share information about your activity with Google and, depending on your account settings and the products in use for instance, when a partner uses Google Analytics in conjunction with our advertising services, this data may be associated with your personal information.\n",
      "\n",
      "What data does Google collect from users? Context: collect information This includes information like your usage data and preferences, Gmail messages, G profile, photos, videos, browsing history, map searches, docs, or other Googlehosted content. Information we collect when you are signed in to Google, in addition to information we obtain about you from partners, may be associated with your Google Account. These products share information about your activity with Google and, depending on your account settings and the products in use for instance, when a partner uses Google Analytics in conjunction with our advertising services, this data may be associated with your personal information. What data does Google collect from users? Context: collect information This includes information like your usage data and preferences, Gmail messages, G profile, photos, videos, browsing history, map searches, docs, or other Googlehosted content. Information we collect when you are signed in to Google, in addition to information we obtain about you from partners, may be associated with your Google Account. These products share information about your activity with Google and, depending on your account settings and the products in use for instance, when a partner uses Google Analytics in conjunction with our advertising services, this data may be associated with your personal information. What data does Google collect from users? Context: collect information This includes information like your usage data and preferences, Gmail messages, G profile, photos, videos, browsing history, map searches, docs, or other Googlehosted content. Information we collect when you are signed in to Google, in addition to information we obtain about you from partners, may be associated with your Google Account. These products share information about your activity with Google and, depending on your account settings and the products in use for instance, when a partner uses Google Analytics in conjunction with our advertising services, this data may be associated with your personal information. What data does Google collect from users? Context: collect information This includes information like your usage data and preferences, Gmail messages, G profile, photos, videos, browsing history, map searches, docs, or other Googlehosted content. Information we collect when you are signed in to Google, in addition to information we obtain about you from partners, may be associated with your Google Account. These products share information about your activity with Google and, depending on your account settings and the products in use for instance, when a partner uses Google Analytics in conjunction with our advertising services, this data may be associated with your personal information. What data\n",
      "\n",
      "==================================================\n",
      "\n",
      "Question 2: When does Google share user data externally?\n",
      "==================================================\n",
      "\n",
      "[Non-RAG Response]\n",
      "When does Google share user data externally?\n",
      "\n",
      "Google does not share user data externally. Google does not share user data externally. Google does not share user data externally. Google does not share user data externally. Google does not share user data externally. Google does not share user data externally.\n",
      "\n",
      "[RAG Retrieved Context]\n",
      "1. Information we share We do not share personal information with companies, organizations and individuals outside of Google unless one of the following circumstances applies With your consent We will share personal information with companies, organizations or individuals outside of Google when we have your consent to do so.\n",
      "2. For legal reasons We will share personal information with companies, organizations or individuals outside of Google if we have a good faith belief that access, use, preservation or disclosure of the information is reasonably necessary to meet any applicable law, regulation, legal process or enforceable governmental request .\n",
      "3. These products share information about your activity with Google and, depending on your account settings and the products in use for instance, when a partner uses Google Analytics in conjunction with our advertising services, this data may be associated with your personal information.\n",
      "\n",
      "[RAG Generated Response]\n",
      "Question: When does Google share user data externally? Context: Information we share We do not share personal information with companies, organizations and individuals outside of Google unless one of the following circumstances applies With your consent We will share personal information with companies, organizations or individuals outside of Google when we have your consent to do so. For legal reasons We will share personal information with companies, organizations or individuals outside of Google if we have a good faith belief that access, use, preservation or disclosure of the information is reasonably necessary to meet any applicable law, regulation, legal process or enforceable governmental request . These products share information about your activity with Google and, depending on your account settings and the products in use for instance, when a partner uses Google Analytics in conjunction with our advertising services, this data may be associated with your personal information. We will share personal information with companies, organizations or individuals outside of Google if we have a good faith belief that access, use, preservation or disclosure of the information is reasonably necessary to meet any applicable law, regulation, legal process or enforceable governmental request . These products share information about your activity with Google and, depending on your account settings and the products in use for instance, when a partner uses Google Analytics in conjunction with our advertising services, this data may be associated with your personal information. We will share personal information with companies, organizations or individuals outside of Google if we have a good faith belief that access, use, preservation or disclosure of the information is reasonably necessary to meet any applicable law, regulation, legal process or enforceable governmental request . These products share information about your activity with Google and, depending on your account settings and the products in use for instance, when a partner uses Google Analytics in conjunction with our advertising services, this data may be associated with your personal information. We will share personal information with companies, organizations or individuals outside of Google if we have a good faith belief that access, use, preservation or disclosure of the information is reasonably necessary to meet any applicable law, regulation, legal process or enforceable governmental request . These products share information about your activity with Google and, depending on your account settings and the products in use for instance, when a partner uses Google Analytics in conjunction with our advertising services, this data may be associated with your personal information. We will share personal information with companies, organizations or individuals outside of Google if we have a good faith belief that access, use, preservation or disclosure of the information is reasonably necessary to meet any applicable law, regulation, legal process or enforceable governmental request . These products share information about your activity with Google and, depending on your account settings and the products in use for instance, when a partner uses Google Analytics in conjunction with our advertising services, this data may be associated with your personal information. We will share personal information with companies, organizations or individuals outside of Google if we have a good faith belief that access, use, preservation or disclosure of the information is reasonably necessary to meet any applicable law, regulation, legal process or enforceable governmental request . These products share information about your activity with Google and, depending on your account settings and the products in use for instance, when a partner uses Google Analytics in conjunction with our advertising services, this data may be associated with your personal information. We will share personal information with companies, organizations or\n",
      "\n",
      "==================================================\n",
      "\n",
      "Question 3: What privacy controls are available to users?\n",
      "==================================================\n",
      "\n",
      "[Non-RAG Response]\n",
      "What privacy controls are available to users?\n",
      "\n",
      "Privacy controls are available to users, but they are not available to the general public.\n",
      "\n",
      "What are the rights of users?\n",
      "\n",
      "Privacy controls are available to users, but they are not available to the general public.\n",
      "\n",
      "What\n",
      "\n",
      "[RAG Retrieved Context]\n",
      "1. As you use our services, we want you to be clear how we re using information and the ways in which you can protect your privacy.\n",
      "2. restrict your ability to delete or edit information or privacy settings.\n",
      "3. We also adhere to several self regulatory frameworks , including the EUUS and SwissUS Privacy Shield Frameworks.\n",
      "\n",
      "[RAG Generated Response]\n",
      "Question: What privacy controls are available to users? Context: As you use our services, we want you to be clear how we re using information and the ways in which you can protect your privacy. restrict your ability to delete or edit information or privacy settings. We also adhere to several self regulatory frameworks , including the EUUS and SwissUS Privacy Shield Frameworks.\n",
      "\n",
      "What privacy controls are available to users? Context: As you use our services, we want you to be clear how we re using information and the ways in which you can protect your privacy. restrict your ability to delete or edit information or privacy settings. We also adhere to several self regulatory frameworks , including the EUUS and SwissUS Privacy Shield Frameworks.\n",
      "\n",
      "What privacy controls are available to users? Context: As you use our services, we want you to be clear how we re using information and the ways in which you can protect your privacy. restrict your ability to delete or edit information or privacy settings. We also adhere to several self regulatory frameworks , including the EUUS and SwissUS Privacy Shield Frameworks.\n",
      "\n",
      "What privacy controls are available to users? Context: As you use our services, we want you to be clear how we re using information and the ways in which you can protect your privacy. restrict your ability to delete or edit information or privacy settings. We also adhere to several self regulatory frameworks , including the EUUS and SwissUS Privacy Shield Frameworks.\n",
      "\n",
      "What privacy controls are available to users? Context: As you use our services, we want you to be clear how we re using information and the ways in which you can protect your privacy. restrict your ability to delete or edit information or privacy settings. We also adhere to several self regulatory frameworks , including the EUUS and SwissUS Privacy Shield Frameworks.\n",
      "\n",
      "==================================================\n",
      "\n",
      "Question 4: How does Google manage cookies and tracking?\n",
      "==================================================\n",
      "\n",
      "[Non-RAG Response]\n",
      "How does Google manage cookies and tracking?\n",
      "\n",
      "Google uses cookies to collect information about you, your activity, and how you interact with the site. These cookies are used to help you understand how you use the site, how you interact with the site, and how you interact with the site\n",
      "\n",
      "[RAG Retrieved Context]\n",
      "1. Cookies and similar technologies We and our partners use various technologies to collect and store information when you visit a Google service, and this may include using cookies or similar technologies to identify your browser or device.\n",
      "2. linked with information about visits to multiple sites Google Analytics is based on firstparty cookies.\n",
      "3. cookies that may uniquely identify your browser or your Google Account.\n",
      "\n",
      "[RAG Generated Response]\n",
      "Question: How does Google manage cookies and tracking? Context: Cookies and similar technologies We and our partners use various technologies to collect and store information when you visit a Google service, and this may include using cookies or similar technologies to identify your browser or device. linked with information about visits to multiple sites Google Analytics is based on firstparty cookies. cookies that may uniquely identify your browser or your Google Account. cookies that may uniquely identify your browser or your Google Account. cookies that may uniquely identify your browser or your Google Account. cookies that may uniquely identify your browser or your Google Account. cookies that may uniquely identify your browser or your Google Account. cookies that may uniquely identify your browser or your Google Account. cookies that may uniquely identify your browser or your Google Account. cookies that may uniquely identify your browser or your Google Account. cookies that may uniquely identify your browser or your Google Account. cookies that may uniquely identify your browser or your Google Account. cookies that may uniquely identify your browser or your Google Account. cookies that may uniquely identify your browser or your Google Account. cookies that may uniquely identify your browser or your Google Account. cookies that may uniquely identify your browser or your Google Account. cookies that may uniquely identify your browser or your Google Account. cookies that may uniquely identify your browser or your Google Account. cookies that may uniquely identify your browser or your Google Account. cookies that may uniquely identify your browser or your Google Account. cookies that may uniquely identify your browser or your Google Account. cookies that may uniquely identify your browser or your Google Account. cookies that may uniquely identify your browser or your Google Account. cookies that may uniquely identify your browser or your Google Account. cookies that may uniquely identify your browser or your Google Account. cookies that may uniquely identify your browser or your Google Account. cookies that may uniquely identify your browser or your Google Account. cookies that may uniquely identify your browser or your Google Account. cookies that may uniquely identify your browser or your Google Account. cookies that may uniquely identify your browser or your Google Account. cookies that may uniquely identify your browser or your Google Account. cookies that may uniquely identify your browser or your Google Account. cookies that may uniquely identify your browser or your Google Account. cookies that may uniquely identify your browser or your Google Account. cookies that may uniquely identify your browser or your Google Account. cookies that may uniquely identify your browser or your Google Account. cookies that may uniquely identify your browser or your Google Account. cookies that may uniquely identify your browser or your Google Account. cookies that may uniquely identify your browser or your Google Account. cookies that may uniquely identify your browser or your Google Account. cookies that may uniquely identify your browser or your Google Account. cookies that may uniquely identify your browser or your Google Account. cookies that may uniquely identify your browser or your Google Account. cookies that may uniquely identify your browser or your Google Account. cookies that may uniquely identify your browser or\n",
      "\n",
      "==================================================\n"
     ]
    }
   ],
   "source": [
    "\n",
    "for idx, question in enumerate(questions, 1):\n",
    "    print(f\"\\nQuestion {idx}: {question}\")\n",
    "    print(\"=\" * 50)\n",
    "\n",
    "    # Generate Non-RAG response\n",
    "    print(\"\\n[Non-RAG Response]\")\n",
    "    response_without_rag = generate_response_without_rag(question, temperature=1.0)\n",
    "    print(response_without_rag)\n",
    "\n",
    "    # Generate RAG response\n",
    "    response_with_rag, retrieved_sentences, combined_input = generate_response_with_rag(question, top_k=3, temperature=1.0)\n",
    "\n",
    "    # Display RAG Retrieved Context\n",
    "    print(\"\\n[RAG Retrieved Context]\")\n",
    "    for i, sentence in enumerate(retrieved_sentences, 1):\n",
    "        print(f\"{i}. {sentence}\")\n",
    "\n",
    "    # Display RAG response\n",
    "    print(\"\\n[RAG Generated Response]\")\n",
    "    print(response_with_rag)\n",
    "    print(\"\\n\" + \"=\" * 50)\n"
   ]
  },
  {
   "cell_type": "markdown",
   "metadata": {},
   "source": [
    "1. Source of Information\n",
    "    1. RAG Output: Combines retrieved context from external sources (like a knowledge base or a document set) with the generative capabilities of GPT The retrieved context provides specific, relevant, and factual information, improving the quality and grounding of the response.\n",
    "Example: The RAG response includes explicit details, like how Google collects \"usage data, Gmail messages, browsing history,\" and data from \"partners using Google Analytics.\"\n",
    "    2. Non-RAG Output: Relies solely on the pre-trained language model's inherent knowledge without external retrieval. This can lead to generic or repetitive content, as seen in the example where it redundantly mentions \"information about you, your habits.\"\n",
    "2. Relevance and Specificity\n",
    "    1. RAG Output: Tends to be more specific and contextually relevant because it uses real-time retrieved context to construct responses. Example: It discusses account association and partner data sharing, adding depth to the explanation.\n",
    "    2. Non-RAG Output: Can be vague, repetitive, or miss key details due to the lack of retrieved context.\n",
    "3. Accuracy\n",
    "    1. RAG Output: Can enhance factual accuracy by grounding responses in retrieved information. This reduces hallucinations (incorrect or fabricated facts) commonly seen in generative models.\n",
    "    2. Non-RAG Output: Relies entirely on the model's trained knowledge, which might be outdated or incomplete, potentially leading to less accurate responses.\n",
    "4. Coherence and Redundancy\n",
    "    1. RAG Output: Often more coherent and concise because the retrieved content provides a structured foundation for the generated text.\n",
    "    2. Non-RAG Output: May exhibit redundancy or verbose phrasing, as seen in the repetitive mention of \"you, your habits, and how you interact.\""
   ]
  },
  {
   "cell_type": "markdown",
   "metadata": {},
   "source": [
    "Example of Differences\n",
    "Given the query:\n",
    "\n",
    "1. Non-RAG Output:\n",
    "    \"Google collects information about you, your habits, and how you interact with other people. It also collects information about you, your habits, and how you interact with other people...\"\n",
    "    Repetitive, lacks specificity, and seems like a generic answer.\n",
    "2. RAG Output:\n",
    "\"Google collects data such as your usage information, Gmail messages, profile information, browsing history, map searches, and data from Google Analytics, which may be associated with your Google Account depending on your settings.\"\n",
    "\n",
    "Specific, factually grounded, and directly addresses the query.\n"
   ]
  },
  {
   "cell_type": "markdown",
   "metadata": {},
   "source": [
    "1. RAG enhances specificity, relevance, and accuracy by integrating external context into the response generation process.\n",
    "2. Non-RAG relies solely on pre-trained knowledge, which can lead to generic or less relevant answers."
   ]
  },
  {
   "cell_type": "markdown",
   "metadata": {},
   "source": [
    "# Model-2 GPT-Neo & all-MiniLM-L6-v2"
   ]
  },
  {
   "cell_type": "code",
   "execution_count": null,
   "metadata": {},
   "outputs": [],
   "source": [
    "import PyPDF2\n",
    "from sentence_transformers import SentenceTransformer\n",
    "from transformers import AutoModelForCausalLM, AutoTokenizer\n",
    "from sklearn.metrics.pairwise import cosine_similarity\n",
    "import numpy as np\n",
    "import re\n",
    "import torch"
   ]
  },
  {
   "cell_type": "markdown",
   "metadata": {},
   "source": [
    "Chunking the Google Privacy Policy Document"
   ]
  },
  {
   "cell_type": "code",
   "execution_count": null,
   "metadata": {},
   "outputs": [],
   "source": [
    "# Extract text from the PDF\n",
    "def extract_text_from_pdf(file_path):\n",
    "    with open(file_path, 'rb') as f:\n",
    "        reader = PyPDF2.PdfReader(f)\n",
    "        text = \"\"\n",
    "        for page in reader.pages:\n",
    "            text += page.extract_text()\n",
    "    return text\n",
    "\n",
    "# Clean and preprocess the text\n",
    "def clean_and_split_text(text):\n",
    "    text = re.sub(r'\\s+', ' ', text)\n",
    "    text = re.sub(r'[^\\x00-\\x7F]+', ' ', text)\n",
    "    text = re.sub(r'[^\\w\\s.,!?;]', '', text)\n",
    "    sentences = re.split(r'(?<=[.!?]) +', text)\n",
    "    return [sentence.strip() for sentence in sentences if sentence]"
   ]
  },
  {
   "cell_type": "code",
   "execution_count": null,
   "metadata": {},
   "outputs": [],
   "source": [
    "# Build the corpus\n",
    "file_path = \"google_privacy_policy_en.pdf\"\n",
    "raw_text = extract_text_from_pdf(file_path)\n",
    "corpus = clean_and_split_text(raw_text)"
   ]
  },
  {
   "cell_type": "markdown",
   "metadata": {},
   "source": [
    "Creating embedding using all-MiniLM-L6-v2"
   ]
  },
  {
   "cell_type": "code",
   "execution_count": null,
   "metadata": {},
   "outputs": [],
   "source": [
    "# Create embeddings for the corpus\n",
    "retriever_model = SentenceTransformer('all-MiniLM-L6-v2')\n",
    "corpus_embeddings = retriever_model.encode(corpus, convert_to_tensor=True)"
   ]
  },
  {
   "cell_type": "markdown",
   "metadata": {},
   "source": [
    "Loading gpt-neo-1.3B and padding the tokens to resize it"
   ]
  },
  {
   "cell_type": "code",
   "execution_count": null,
   "metadata": {},
   "outputs": [],
   "source": [
    "# Load the GPT-Neo model and tokenizer\n",
    "model_name = \"EleutherAI/gpt-neo-1.3B\" \n",
    "generator_model = AutoModelForCausalLM.from_pretrained(model_name, device_map=\"auto\", torch_dtype=torch.float16)\n",
    "tokenizer = AutoTokenizer.from_pretrained(model_name)\n",
    "\n",
    "# Set a padding token if it doesn't exist\n",
    "if tokenizer.pad_token is None:\n",
    "    tokenizer.add_special_tokens({'pad_token': tokenizer.eos_token})\n",
    "\n",
    "# Resize the model embeddings to include the new padding token if added\n",
    "generator_model.resize_token_embeddings(len(tokenizer))"
   ]
  },
  {
   "cell_type": "markdown",
   "metadata": {},
   "source": [
    "Question and answer generation using RAG"
   ]
  },
  {
   "cell_type": "code",
   "execution_count": null,
   "metadata": {},
   "outputs": [],
   "source": [
    "# Utility functions for retrieval and generation\n",
    "def generate_response_with_rag(question, top_k=5, temperature=1.5):\n",
    "    # Retrieve top-k relevant sentences\n",
    "    question_embedding = retriever_model.encode(question, convert_to_tensor=True)\n",
    "    similarities = cosine_similarity(\n",
    "        question_embedding.cpu().numpy().reshape(1, -1),\n",
    "        corpus_embeddings.cpu().numpy()\n",
    "    )\n",
    "    top_indices = np.argsort(similarities[0])[-top_k:][::-1]\n",
    "    retrieved_sentences = [corpus[idx] for idx in top_indices[:3]]  # Limit to top 3 sentences\n",
    "\n",
    "    # Combine the question with the retrieved context\n",
    "    combined_input = f\"Question: {question} Context: {' '.join(retrieved_sentences)}\"\n",
    "\n",
    "    # Tokenize input\n",
    "    inputs = tokenizer(\n",
    "        combined_input,\n",
    "        return_tensors=\"pt\",\n",
    "        truncation=True,\n",
    "        max_length=1024,\n",
    "        padding=True\n",
    "    )\n",
    "\n",
    "    # Generate response\n",
    "    outputs = generator_model.generate(\n",
    "        inputs[\"input_ids\"].to(\"cuda\"),\n",
    "        attention_mask=inputs[\"attention_mask\"].to(\"cuda\"),\n",
    "        max_new_tokens=200,\n",
    "        num_beams=4,\n",
    "        temperature=temperature,\n",
    "        early_stopping=True,\n",
    "        repetition_penalty=1.2  # Penalize repetitive tokens\n",
    "    )\n",
    "    return tokenizer.decode(outputs[0], skip_special_tokens=True), retrieved_sentences, combined_input"
   ]
  },
  {
   "cell_type": "markdown",
   "metadata": {},
   "source": [
    "Question and answer generation using Non-RAG"
   ]
  },
  {
   "cell_type": "code",
   "execution_count": null,
   "metadata": {},
   "outputs": [],
   "source": [
    "def generate_response_without_rag(question, temperature=1.5):\n",
    "    # Tokenize input question\n",
    "    inputs = tokenizer(\n",
    "        question,\n",
    "        return_tensors=\"pt\",\n",
    "        truncation=True,\n",
    "        max_length=1024,\n",
    "        padding=True\n",
    "    )\n",
    "\n",
    "    # Generate response\n",
    "    outputs = generator_model.generate(\n",
    "        inputs[\"input_ids\"].to(\"cuda\"),\n",
    "        attention_mask=inputs[\"attention_mask\"].to(\"cuda\"),\n",
    "        max_new_tokens=200,\n",
    "        num_beams=4,\n",
    "        temperature=temperature,\n",
    "        early_stopping=True,\n",
    "        repetition_penalty=1.2  # Penalize repetitive tokens\n",
    "    )\n",
    "    return tokenizer.decode(outputs[0], skip_special_tokens=True)"
   ]
  },
  {
   "cell_type": "code",
   "execution_count": null,
   "metadata": {},
   "outputs": [],
   "source": [
    "# Define and process questions\n",
    "questions = [\n",
    "    \"What data does Google collect from users?\",\n",
    "    \"When does Google share user data externally?\",\n",
    "    \"What privacy controls are available to users?\",\n",
    "    \"How does Google manage cookies and tracking?\"\n",
    "]\n",
    "\n",
    "print(\"\\n--- Question-Answer Results ---\\n\")"
   ]
  },
  {
   "cell_type": "code",
   "execution_count": 6,
   "metadata": {
    "colab": {
     "base_uri": "https://localhost:8080/"
    },
    "id": "W0Qzzk8mLrhA",
    "outputId": "2bf2d7b8-9866-4dd6-83fd-afd17292c9fa"
   },
   "outputs": [
    {
     "name": "stderr",
     "output_type": "stream",
     "text": [
      "/usr/local/lib/python3.10/dist-packages/transformers/generation/configuration_utils.py:590: UserWarning: `do_sample` is set to `False`. However, `temperature` is set to `1.5` -- this flag is only used in sample-based generation modes. You should set `do_sample=True` or unset `temperature`.\n",
      "  warnings.warn(\n",
      "Setting `pad_token_id` to `eos_token_id`:None for open-end generation.\n"
     ]
    },
    {
     "name": "stdout",
     "output_type": "stream",
     "text": [
      "\n",
      "--- Question-Answer Results ---\n",
      "\n",
      "\n",
      "Question 1: What data does Google collect from users?\n",
      "==================================================\n",
      "\n",
      "[Non-RAG Response]\n"
     ]
    },
    {
     "name": "stderr",
     "output_type": "stream",
     "text": [
      "/usr/local/lib/python3.10/dist-packages/transformers/generation/configuration_utils.py:590: UserWarning: `do_sample` is set to `False`. However, `temperature` is set to `1.5` -- this flag is only used in sample-based generation modes. You should set `do_sample=True` or unset `temperature`.\n",
      "  warnings.warn(\n",
      "Setting `pad_token_id` to `eos_token_id`:None for open-end generation.\n"
     ]
    },
    {
     "name": "stdout",
     "output_type": "stream",
     "text": [
      "What data does Google collect from users?\n",
      "\n",
      "Google collects a lot of data from its users. This data can be used to improve the user experience, and it can also be used to improve Google’s products and services.\n",
      "\n",
      "Google collects a lot of data from its users. This data can be used to improve the user experience, and it can also be used to improve Google’s products and services.\n",
      "\n",
      "Google collects a lot of data from its users. This data can be used to improve the user experience, and it can also be used to improve Google’s products and services.\n",
      "\n",
      "Google collects a lot of data from its users. This data can be used to improve the user experience, and it can also be used to improve Google’s products and services.\n",
      "\n",
      "Google collects a lot of data from its users. This data can be used to improve the user experience, and it can also be used to improve Google’s products and services.\n",
      "\n",
      "Google collects a\n"
     ]
    },
    {
     "name": "stderr",
     "output_type": "stream",
     "text": [
      "Setting `pad_token_id` to `eos_token_id`:None for open-end generation.\n"
     ]
    },
    {
     "name": "stdout",
     "output_type": "stream",
     "text": [
      "\n",
      "[RAG Retrieved Context]\n",
      "1. collect information This includes information like your usage data and preferences, Gmail messages, G profile, photos, videos, browsing history, map searches, docs, or other Googlehosted content.\n",
      "2. Information we collect when you are signed in to Google, in addition to information we obtain about you from partners, may be associated with your Google Account.\n",
      "3. These products share information about your activity with Google and, depending on your account settings and the products in use for instance, when a partner uses Google Analytics in conjunction with our advertising services, this data may be associated with your personal information.\n",
      "\n",
      "[RAG Generated Response]\n",
      "Question: What data does Google collect from users? Context: collect information This includes information like your usage data and preferences, Gmail messages, G profile, photos, videos, browsing history, map searches, docs, or other Googlehosted content. Information we collect when you are signed in to Google, in addition to information we obtain about you from partners, may be associated with your Google Account. These products share information about your activity with Google and, depending on your account settings and the products in use for instance, when a partner uses Google Analytics in conjunction with our advertising services, this data may be associated with your personal information. For more information about Google’s privacy practices, please visit https://www.google.com/policies/privacy/ or https://www.google.com/policies/privacy-policy/\n",
      "\n",
      "Question: How can I opt out of Google’s use of my personal information? Context: opt out of Google’s use of your personal information This means that you can opt out of Google’s use of your personal information by visiting https://www.google.com/policies/privacy/ or https://www.google.com/policies/privacy-policy/\n",
      "\n",
      "Question: How can I opt out of Google’s use of my personal information? Context: opt out of Google’s use of your personal information This means that you can opt out of Google’s use of your personal information by visiting https://www.google.com/policies/privacy/\n",
      "\n",
      "==================================================\n",
      "\n",
      "Question 2: When does Google share user data externally?\n",
      "==================================================\n",
      "\n",
      "[Non-RAG Response]\n"
     ]
    },
    {
     "name": "stderr",
     "output_type": "stream",
     "text": [
      "/usr/local/lib/python3.10/dist-packages/transformers/generation/configuration_utils.py:590: UserWarning: `do_sample` is set to `False`. However, `temperature` is set to `1.5` -- this flag is only used in sample-based generation modes. You should set `do_sample=True` or unset `temperature`.\n",
      "  warnings.warn(\n",
      "Setting `pad_token_id` to `eos_token_id`:None for open-end generation.\n"
     ]
    },
    {
     "name": "stdout",
     "output_type": "stream",
     "text": [
      "When does Google share user data externally?\n",
      "\n",
      "Google has a long history of sharing user data with third parties, but it’s only recently that the company has been transparent about how it does it.\n",
      "\n",
      "In the past, Google has shared user data with third parties in order to improve its products and services. For example, it has shared user data with third parties in order to improve its search results. It has also shared user data with third parties in order to improve its ads.\n",
      "\n",
      "Google has also shared user data with third parties in order to improve its products and services. For example, it has shared user data with third parties in order to improve its search results. It has also shared user data with third parties in order to improve its ads.\n",
      "\n",
      "Google has also shared user data with third parties in order to improve its products and services. For example, it has shared user data with third parties in order to improve its search results. It has also shared user data with third parties in order to improve its\n"
     ]
    },
    {
     "name": "stderr",
     "output_type": "stream",
     "text": [
      "Setting `pad_token_id` to `eos_token_id`:None for open-end generation.\n"
     ]
    },
    {
     "name": "stdout",
     "output_type": "stream",
     "text": [
      "\n",
      "[RAG Retrieved Context]\n",
      "1. Information we share We do not share personal information with companies, organizations and individuals outside of Google unless one of the following circumstances applies With your consent We will share personal information with companies, organizations or individuals outside of Google when we have your consent to do so.\n",
      "2. For legal reasons We will share personal information with companies, organizations or individuals outside of Google if we have a good faith belief that access, use, preservation or disclosure of the information is reasonably necessary to meet any applicable law, regulation, legal process or enforceable governmental request .\n",
      "3. These products share information about your activity with Google and, depending on your account settings and the products in use for instance, when a partner uses Google Analytics in conjunction with our advertising services, this data may be associated with your personal information.\n",
      "\n",
      "[RAG Generated Response]\n",
      "Question: When does Google share user data externally? Context: Information we share We do not share personal information with companies, organizations and individuals outside of Google unless one of the following circumstances applies With your consent We will share personal information with companies, organizations or individuals outside of Google when we have your consent to do so. For legal reasons We will share personal information with companies, organizations or individuals outside of Google if we have a good faith belief that access, use, preservation or disclosure of the information is reasonably necessary to meet any applicable law, regulation, legal process or enforceable governmental request . These products share information about your activity with Google and, depending on your account settings and the products in use for instance, when a partner uses Google Analytics in conjunction with our advertising services, this data may be associated with your personal information. You can opt-out of Google Analytics at any time by visiting the Google Analytics Opt-out page. You can also opt-out of Google AdSense by visiting the Google AdSense Opt-out page. You can also opt-out of Google Analytics by visiting the Google Analytics Opt-out page. You can also opt-out of Google AdSense by visiting the Google AdSense Opt-out page. You can also opt-out of Google Analytics by visiting the Google Analytics Opt-out page. You can also opt-out of Google AdSense by visiting the Google AdSense Opt-out page. You can also opt-out of Google Analytics by visiting the Google Analytics Opt-out page. You can also opt-out of Google AdSense by visiting the Google AdSense Opt-out page. You can also opt-out of Google Analytics by visiting the Google Analytics Opt-out page. You can also opt-out of Google AdSense by visiting the Google AdSense Opt-out\n",
      "\n",
      "==================================================\n",
      "\n",
      "Question 3: What privacy controls are available to users?\n",
      "==================================================\n",
      "\n",
      "[Non-RAG Response]\n"
     ]
    },
    {
     "name": "stderr",
     "output_type": "stream",
     "text": [
      "/usr/local/lib/python3.10/dist-packages/transformers/generation/configuration_utils.py:590: UserWarning: `do_sample` is set to `False`. However, `temperature` is set to `1.5` -- this flag is only used in sample-based generation modes. You should set `do_sample=True` or unset `temperature`.\n",
      "  warnings.warn(\n",
      "Setting `pad_token_id` to `eos_token_id`:None for open-end generation.\n"
     ]
    },
    {
     "name": "stdout",
     "output_type": "stream",
     "text": [
      "What privacy controls are available to users?\n",
      "\n",
      "A:\n",
      "\n",
      "I'm not sure what you mean by \"privacy controls\", but here are some of the privacy controls that are available to users:\n",
      "\n",
      "Privacy settings can be found in the Privacy tab of the Settings app.\n",
      "Privacy settings can be found in the Privacy tab of the Settings app.\n",
      "Privacy settings can be found in the Privacy tab of the Settings app.\n",
      "Privacy settings can be found in the Privacy tab of the Settings app.\n",
      "Privacy settings can be found in the Privacy tab of the Settings app.\n",
      "Privacy settings can be found in the Privacy tab of the Settings app.\n",
      "\n",
      "\n"
     ]
    },
    {
     "name": "stderr",
     "output_type": "stream",
     "text": [
      "Setting `pad_token_id` to `eos_token_id`:None for open-end generation.\n"
     ]
    },
    {
     "name": "stdout",
     "output_type": "stream",
     "text": [
      "\n",
      "[RAG Retrieved Context]\n",
      "1. As you use our services, we want you to be clear how we re using information and the ways in which you can protect your privacy.\n",
      "2. restrict your ability to delete or edit information or privacy settings.\n",
      "3. We also adhere to several self regulatory frameworks , including the EUUS and SwissUS Privacy Shield Frameworks.\n",
      "\n",
      "[RAG Generated Response]\n",
      "Question: What privacy controls are available to users? Context: As you use our services, we want you to be clear how we re using information and the ways in which you can protect your privacy. restrict your ability to delete or edit information or privacy settings. We also adhere to several self regulatory frameworks , including the EUUS and SwissUS Privacy Shield Frameworks.\n",
      "\n",
      "Question: How do I know what information is being collected? Context: We collect information about you, such as your name, address, phone number, email address, and other contact information. We also collect information about your use of our services, such as your IP address, browser type and version, operating system, referral source, length of visit, and other information.\n",
      "\n",
      "Question: How do I know what information is being collected? Context: We collect information about you, such as your name, address, phone number, email address, and other contact information. We also collect information about your use of our services, such as your IP address, browser type and version, operating system, referral source, length of visit, and other information.\n",
      "\n",
      "Question: How do I know what information is being collected? Context: We collect information about you, such as your name, address, phone number, email address, and other contact information. We also collect information about your use of\n",
      "\n",
      "==================================================\n",
      "\n",
      "Question 4: How does Google manage cookies and tracking?\n",
      "==================================================\n",
      "\n",
      "[Non-RAG Response]\n"
     ]
    },
    {
     "name": "stderr",
     "output_type": "stream",
     "text": [
      "/usr/local/lib/python3.10/dist-packages/transformers/generation/configuration_utils.py:590: UserWarning: `do_sample` is set to `False`. However, `temperature` is set to `1.5` -- this flag is only used in sample-based generation modes. You should set `do_sample=True` or unset `temperature`.\n",
      "  warnings.warn(\n",
      "Setting `pad_token_id` to `eos_token_id`:None for open-end generation.\n"
     ]
    },
    {
     "name": "stdout",
     "output_type": "stream",
     "text": [
      "How does Google manage cookies and tracking?\n",
      "\n",
      "Google’s privacy policy states: “We do not sell or rent your personal information to third parties for marketing purposes.”\n",
      "\n",
      "However, it’s worth noting that Google’s privacy policy also states: “We may share your personal information with third parties for the purposes described in this Privacy Policy.”\n",
      "\n",
      "What is Google Analytics?\n",
      "\n",
      "Google Analytics is a web analytics service provided by Google Inc. (“Google”). Google Analytics uses “cookies”, which are text files placed on your computer, to help the website analyze how users use the site. The information generated by the cookie about your use of the website (including your IP address) will be transmitted to and stored by Google on servers in the United States. Google will use this information for the purpose of evaluating your use of the website, compiling reports on website activity for website operators and providing other services relating to website activity and internet usage. Google\n",
      "\n",
      "[RAG Retrieved Context]\n",
      "1. Cookies and similar technologies We and our partners use various technologies to collect and store information when you visit a Google service, and this may include using cookies or similar technologies to identify your browser or device.\n",
      "2. linked with information about visits to multiple sites Google Analytics is based on firstparty cookies.\n",
      "3. cookies that may uniquely identify your browser or your Google Account.\n",
      "\n",
      "[RAG Generated Response]\n",
      "Question: How does Google manage cookies and tracking? Context: Cookies and similar technologies We and our partners use various technologies to collect and store information when you visit a Google service, and this may include using cookies or similar technologies to identify your browser or device. linked with information about visits to multiple sites Google Analytics is based on firstparty cookies. cookies that may uniquely identify your browser or your Google Account.\n",
      "\n",
      "Question: How does Google manage cookies and tracking? Context: Cookies and similar technologies We and our partners use various technologies to collect and store information when you visit a Google service, and this may include using cookies or similar technologies to identify your browser or device.\n",
      "\n",
      "Question: How does Google manage cookies and tracking? Context: Cookies and similar technologies We and our partners use various technologies to collect and store information when you visit a Google service, and this may include using cookies or similar technologies to identify your browser or device.\n",
      "\n",
      "Question: How does Google manage cookies and tracking? Context: Cookies and similar technologies We and our partners use various technologies to collect and store information when you visit a Google service, and this may include using cookies or similar technologies to identify your browser or device.\n",
      "\n",
      "Question: How does Google manage cookies and tracking? Context: Cookies and similar technologies We and our partners use various technologies to collect and store information when you visit a Google service, and this may include\n",
      "\n",
      "==================================================\n"
     ]
    }
   ],
   "source": [
    "for idx, question in enumerate(questions, 1):\n",
    "    print(f\"\\nQuestion {idx}: {question}\")\n",
    "    print(\"=\" * 50)\n",
    "\n",
    "    # Generate Non-RAG response\n",
    "    print(\"\\n[Non-RAG Response]\")\n",
    "    response_without_rag = generate_response_without_rag(question, temperature=1.5)\n",
    "    print(response_without_rag)\n",
    "\n",
    "    # Generate RAG response\n",
    "    response_with_rag, retrieved_sentences, combined_input = generate_response_with_rag(question, top_k=3, temperature=1.5)\n",
    "\n",
    "    # Display RAG Retrieved Context\n",
    "    print(\"\\n[RAG Retrieved Context]\")\n",
    "    for i, sentence in enumerate(retrieved_sentences, 1):\n",
    "        print(f\"{i}. {sentence}\")\n",
    "\n",
    "    # Display RAG response\n",
    "    print(\"\\n[RAG Generated Response]\")\n",
    "    print(response_with_rag)\n",
    "    print(\"\\n\" + \"=\" * 50)\n"
   ]
  },
  {
   "cell_type": "markdown",
   "metadata": {},
   "source": [
    "Non-RAG Response\n",
    "1. Content:\n",
    "\n",
    "    Highly repetitive and verbose, with no substantial details about what data is collected.\n",
    "Focuses on general statements, such as \"Google collects a lot of data from its users,\" and \"improves user experience,\" without specificity.\n",
    "\n",
    "2. Issues:\n",
    "\n",
    "    Redundancy: Repeating the same statement multiple times reduces the effectiveness and clarity of the response.\n",
    "Lack of context or depth: Does not specify the types of data collected (e.g., browsing history, Gmail messages)."
   ]
  },
  {
   "cell_type": "markdown",
   "metadata": {
    "id": "43nnLvstNujE"
   },
   "source": [
    "RAG Retrieved Context\n",
    "1. Content:\n",
    "\n",
    "    Provides detailed information about the types of data Google collects, including \"usage data, Gmail messages, browsing history, map searches, and other Google-hosted content.\"\n",
    "Explains how this data is associated with Google Accounts and highlights partner-based data collection (e.g., Google Analytics).\n",
    "Mentions privacy policy links for further information.\n",
    "\n",
    "2. Advantages:\n",
    "\n",
    "    Specificity: Details like \"map searches, videos, and photos\" make the response concrete and informative. Relevance: Context retrieval ensures alignment with the user's query.Credibility: References privacy policy URLs for further reading."
   ]
  },
  {
   "cell_type": "code",
   "execution_count": null,
   "metadata": {},
   "outputs": [],
   "source": []
  }
 ],
 "metadata": {
  "accelerator": "GPU",
  "colab": {
   "gpuType": "T4",
   "provenance": []
  },
  "kernelspec": {
   "display_name": "Python 3 (ipykernel)",
   "language": "python",
   "name": "python3"
  },
  "language_info": {
   "codemirror_mode": {
    "name": "ipython",
    "version": 3
   },
   "file_extension": ".py",
   "mimetype": "text/x-python",
   "name": "python",
   "nbconvert_exporter": "python",
   "pygments_lexer": "ipython3",
   "version": "3.12.4"
  }
 },
 "nbformat": 4,
 "nbformat_minor": 4
}
